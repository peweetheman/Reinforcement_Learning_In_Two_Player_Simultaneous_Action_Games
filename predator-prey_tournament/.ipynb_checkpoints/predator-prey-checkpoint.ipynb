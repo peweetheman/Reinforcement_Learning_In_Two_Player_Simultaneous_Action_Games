{
 "cells": [
  {
   "cell_type": "code",
   "execution_count": 1,
   "metadata": {
    "pycharm": {
     "is_executing": false
    }
   },
   "outputs": [
    {
     "ename": "ImportError",
     "evalue": "No module named 'trueskill'",
     "output_type": "error",
     "traceback": [
      "\u001b[1;31m---------------------------------------------------------------------------\u001b[0m",
      "\u001b[1;31mImportError\u001b[0m                               Traceback (most recent call last)",
      "\u001b[1;32m<ipython-input-1-8bff5e998b7b>\u001b[0m in \u001b[0;36m<module>\u001b[1;34m\u001b[0m\n\u001b[0;32m      2\u001b[0m \u001b[1;32mimport\u001b[0m \u001b[0mos\u001b[0m\u001b[1;33m\u001b[0m\u001b[0m\n\u001b[0;32m      3\u001b[0m \u001b[1;32mimport\u001b[0m \u001b[0mpickle\u001b[0m\u001b[1;33m\u001b[0m\u001b[0m\n\u001b[1;32m----> 4\u001b[1;33m \u001b[1;32mimport\u001b[0m \u001b[0mtrueskill\u001b[0m\u001b[1;33m\u001b[0m\u001b[0m\n\u001b[0m\u001b[0;32m      5\u001b[0m \u001b[1;33m\u001b[0m\u001b[0m\n\u001b[0;32m      6\u001b[0m \u001b[1;32mimport\u001b[0m \u001b[0mmatplotlib\u001b[0m\u001b[1;33m\u001b[0m\u001b[0m\n",
      "\u001b[1;31mImportError\u001b[0m: No module named 'trueskill'"
     ]
    }
   ],
   "source": [
    "import numpy as np\n",
    "import os\n",
    "import pickle\n",
    "import trueskill\n",
    "\n",
    "import matplotlib\n",
    "import matplotlib.pyplot as plt\n",
    "import matplotlib.patches as mpatches\n",
    "import matplotlib.lines as mlines\n",
    "import seaborn as sns\n",
    "%matplotlib inline"
   ]
  },
  {
   "cell_type": "code",
   "execution_count": null,
   "metadata": {
    "pycharm": {
     "is_executing": false
    }
   },
   "outputs": [],
   "source": [
    "# Customize matplotlib appearance\n",
    "sns.set_style(\"white\", {'axes.grid': False, 'grid.color': '.9', 'grid.linestyle': u'--'})\n",
    "matplotlib.rc('axes', titlesize=18, labelsize=18)\n",
    "matplotlib.rc('legend', fontsize=16)\n",
    "matplotlib.rc('xtick', labelsize=16)\n",
    "matplotlib.rc('ytick', labelsize=16)\n",
    "\n",
    "# matplotlib.rc('text', usetex=True)\n",
    "matplotlib.rc('font', **{'family': 'sans-serif', 'sans-serif': ['Helvetica']})"
   ]
  },
  {
   "cell_type": "markdown",
   "metadata": {},
   "source": [
    "## Load results"
   ]
  },
  {
   "cell_type": "code",
   "execution_count": null,
   "metadata": {
    "pycharm": {
     "is_executing": false
    }
   },
   "outputs": [],
   "source": [
    "runs = 5\n",
    "\n",
    "# Naive learners\n",
    "rets_nl, times_nl, params_nl = {}, {}, {}\n",
    "for bs in [64]:\n",
    "    rets_nl[bs] = np.stack([np.load(\"results/ipd_bs%d_nl/run-%d/rets.npy\" % (bs, r + 1)) for r in range(runs)])\n",
    "    times_nl[bs] = np.stack([np.load(\"results/ipd_bs%d_nl/run-%d/times.npy\" % (bs, r + 1)) for r in range(runs)])\n",
    "    params_nl[bs] = np.stack([np.load(\"results/ipd_bs%d_nl/run-%d/params.npy\" % (bs, r + 1)) for r in range(runs)])\n",
    "\n",
    "# LOLA with corrections\n",
    "rets_old, times_old, params_old = {}, {}, {}\n",
    "for bs in [64]:\n",
    "    rets_old[bs] = np.stack([np.load(\"results/ipd_bs%d_original/run-%d/rets.npy\" % (bs, r + 1))[:200] for r in range(runs)])\n",
    "    params_old[bs] = np.stack([np.load(\"results/ipd_bs%d_original/run-%d/params.npy\" % (bs, r + 1))[:200] for r in range(runs)])\n",
    "\n",
    "# LOLA without magic\n",
    "rets_nomagic, times_nomagic, params_nomagic = {}, {}, {}\n",
    "for bs in [64]:\n",
    "    rets_nomagic[bs] = np.stack([np.load(\"results/ipd_bs%d_nomagic/run-%d/rets.npy\" % (bs, r + 1)) for r in range(runs)])\n",
    "    times_nomagic[bs] = np.stack([np.load(\"results/ipd_bs%d_nomagic/run-%d/times.npy\" % (bs, r + 1)) for r in range(runs)])\n",
    "    params_nomagic[bs] = np.stack([np.load(\"results/ipd_bs%d_nomagic/run-%d/params.npy\" % (bs, r + 1)) for r in range(runs)])\n",
    "\n",
    "# LOLA with magic\n",
    "rets_magic, times_magic, params_magic = {}, {}, {}\n",
    "for bs in [64]:\n",
    "    rets_magic[bs] = np.stack([np.load(\"results/ipd_bs%d_magic/run-%d/rets.npy\" % (bs, r + 1)) for r in range(runs)])\n",
    "    times_magic[bs] = np.stack([np.load(\"results/ipd_bs%d_magic/run-%d/times.npy\" % (bs, r + 1)) for r in range(runs)])\n",
    "    params_magic[bs] = np.stack([np.load(\"results/ipd_bs%d_magic/run-%d/params.npy\" % (bs, r + 1)) for r in range(runs)])\n",
    "\n",
    "rets_2steps_magic, times_2steps_magic, params_2steps_magic = {}, {}, {}\n",
    "for bs in [64]:\n",
    "    rets_2steps_magic[bs] = np.stack([np.load(\"results/ipd_bs%d_2inner/run-%d/rets.npy\" % (bs, r + 1)) for r in range(runs)])\n",
    "    times_2steps_magic[bs] = np.stack([np.load(\"results/ipd_bs%d_2inner/run-%d/times.npy\" % (bs, r + 1)) for r in range(runs)])\n",
    "    params_2steps_magic[bs] = np.stack([np.load(\"results/ipd_bs%d_2inner/run-%d/params.npy\" % (bs, r + 1)) for r in range(runs)])\n",
    "\n",
    "rets_3steps_magic, times_3steps_magic, params_3steps_magic = {}, {}, {}\n",
    "for bs in [64]:\n",
    "    rets_3steps_magic[bs] = np.stack([np.load(\"results/ipd_bs%d_3inner/run-%d/rets.npy\" % (bs, r + 1)) for r in range(runs)])\n",
    "    times_3steps_magic[bs] = np.stack([np.load(\"results/ipd_bs%d_3inner/run-%d/times.npy\" % (bs, r + 1)) for r in range(runs)])\n",
    "    params_3steps_magic[bs] = np.stack([np.load(\"results/ipd_bs%d_3inner/run-%d/params.npy\" % (bs, r + 1)) for r in range(runs)])\n",
    "\n",
    "# LOLA with magic and OM\n",
    "rets_2steps_magic_om, times_2steps_magic_om, params_2steps_magic_om = {}, {}, {}\n",
    "for bs in [64]:\n",
    "    rets_2steps_magic_om[bs] = np.stack([np.load(\"results/ipd_bs%d_2inner_om/run-%d/rets.npy\" % (bs, r + 1)) for r in range(runs)])\n",
    "    times_2steps_magic_om[bs] = np.stack([np.load(\"results/ipd_bs%d_2inner_om/run-%d/times.npy\" % (bs, r + 1)) for r in range(runs)])\n",
    "    params_2steps_magic_om[bs] = np.stack([np.load(\"results/ipd_bs%d_2inner_om/run-%d/params.npy\" % (bs, r + 1)) for r in range(runs)])"
   ]
  },
  {
   "cell_type": "markdown",
   "metadata": {},
   "source": [
    "## Plot results"
   ]
  },
  {
   "cell_type": "code",
   "execution_count": null,
   "metadata": {
    "pycharm": {
     "is_executing": false
    }
   },
   "outputs": [],
   "source": [
    "bs = 64\n",
    "\n",
    "fig, ax = plt.subplots(1, 1, figsize=(12., 9.))\n",
    "colors = sns.color_palette('deep')\n",
    "\n",
    "# NL\n",
    "sns.tsplot((rets_nl[bs][:, :, 0] + rets_nl[bs][:, :, 1]) / 2, color=colors[0], ci=68, ax=ax)\n",
    "\n",
    "# LOLA + gradient corrections\n",
    "sns.tsplot((rets_old[bs][:, :, 0] + rets_old[bs][:, :, 1]) / 2, color=colors[1], ci=68, ax=ax)\n",
    "\n",
    "\n",
    "# LOLA + magic\n",
    "sns.tsplot((rets_magic[bs][:, :, 0] + rets_magic[bs][:, :, 1]) / 2, color=colors[2], ci=68, ax=ax)\n",
    "sns.tsplot((rets_2steps_magic[bs][:, :, 0] + rets_2steps_magic[bs][:, :, 1]) / 2, color=colors[4], ci=68, ax=ax)\n",
    "sns.tsplot((rets_3steps_magic[bs][:, :, 0] + rets_3steps_magic[bs][:, :, 1]) / 2, color=colors[3], ci=68, ax=ax)\n",
    "sns.tsplot((rets_2steps_magic_om[bs][:, :, 0] + rets_2steps_magic_om[bs][:, :, 1]) / 2, color=colors[5], ci=68, ax=ax)\n",
    "\n",
    "ax.set_xlim([0, 200])\n",
    "ax.set_ylim([-2., -1.])\n",
    "ax.set_ylabel(\"Avg. per step return\")\n",
    "ax.set_xlabel(\"Iterations\")\n",
    "lg = ax.legend([\n",
    "    \"Naive Learner\",\n",
    "    \"LOLA (orginal)\",\n",
    "    \"LOLA-DiCE (1 step)\",\n",
    "    \"LOLA-DiCE (2 step)\",\n",
    "    \"LOLA-DiCE (3 step)\",\n",
    "    \"LOLA-DiCE-OM (2 step)\"\n",
    "], bbox_to_anchor=(0., 1.02, 1., .102), loc=3, ncol=3, borderaxespad=0)\n",
    "\n",
    "fig.tight_layout(rect=[0, 0, 1, .85])\n",
    "fig.savefig(\"lola-results.pdf\")"
   ]
  }
 ],
 "metadata": {
  "kernelspec": {
   "display_name": "Python 3",
   "language": "python",
   "name": "python3"
  },
  "language_info": {
   "codemirror_mode": {
    "name": "ipython",
    "version": 3
   },
   "file_extension": ".py",
   "mimetype": "text/x-python",
   "name": "python",
   "nbconvert_exporter": "python",
   "pygments_lexer": "ipython3",
   "version": "3.5.6"
  }
 },
 "nbformat": 4,
 "nbformat_minor": 2
}
